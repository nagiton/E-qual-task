{
 "cells": [
  {
   "cell_type": "markdown",
   "metadata": {},
   "source": [
    "# 概要\n",
    "下記のコードをベースとして、LSTM、BiLSTM、attentionを使ったNMTモデルを構築し、BLEUスコアを算出する。\n",
    "https://www.tensorflow.org/tutorials/text/nmt_with_attention\n",
    "\n",
    "本ノートブックはそのうちBiLSTMを実装したものになる。\n",
    "\n",
    "# 処理の流れ\n",
    "0. 環境構築\n",
    "1. データのロード\n",
    "2. データの前処理\n",
    "3. モデルの定義\n",
    "    1. encoder\n",
    "    2. attention\n",
    "    3. decorder\n",
    "4. BLEUスコア評価用関数の定義\n",
    "5. 学習\n",
    "6. attentionの可視化\n",
    "\n",
    "# 前提\n",
    "課題であるsmall_parallel_enjaをgit cloneしたものを同じディレクトリに置く。"
   ]
  },
  {
   "cell_type": "markdown",
   "metadata": {},
   "source": [
    "# 0. 環境構築\n",
    "本ノートブックはAWS Sagemakerのノートブックインスタンスでの動作を想定している。\n",
    "* kernel: conda_tensorflow_p36\n",
    "* instance type: ml.p2.xlarge(学習時), ml.t2.medium(開発時)\n"
   ]
  },
  {
   "cell_type": "raw",
   "metadata": {
    "jupyter": {
     "outputs_hidden": true
    }
   },
   "source": [
    "また、tensorflow 2.1.0を使うため、下記のセルでアップデートを行う。→やらないことにした。\n",
    "%%bash\n",
    "pip install --upgrade tensorflow\n",
    "pip install --upgrade tensorflow-gpu\n",
    "pip install --upgrade keras"
   ]
  },
  {
   "cell_type": "code",
   "execution_count": 1,
   "metadata": {},
   "outputs": [
    {
     "name": "stdout",
     "output_type": "stream",
     "text": [
      "WARNING:tensorflow:From /home/ec2-user/anaconda3/envs/tensorflow_p36/lib/python3.6/site-packages/tensorflow_core/__init__.py:1467: The name tf.estimator.inputs is deprecated. Please use tf.compat.v1.estimator.inputs instead.\n",
      "\n"
     ]
    }
   ],
   "source": [
    "from __future__ import absolute_import, division, print_function, unicode_literals\n",
    "\n",
    "import tensorflow as tf\n",
    "\n",
    "import matplotlib.pyplot as plt\n",
    "import matplotlib.ticker as ticker\n",
    "from sklearn.model_selection import train_test_split\n",
    "\n",
    "from nltk.translate.bleu_score import sentence_bleu\n",
    "\n",
    "import unicodedata\n",
    "import re\n",
    "import numpy as np\n",
    "import os\n",
    "import io\n",
    "import time"
   ]
  },
  {
   "cell_type": "code",
   "execution_count": 2,
   "metadata": {},
   "outputs": [
    {
     "name": "stdout",
     "output_type": "stream",
     "text": [
      "1.15.0\n"
     ]
    }
   ],
   "source": [
    "print(tf.__version__)"
   ]
  },
  {
   "cell_type": "code",
   "execution_count": 3,
   "metadata": {},
   "outputs": [
    {
     "data": {
      "text/plain": [
       "[name: \"/device:CPU:0\"\n",
       " device_type: \"CPU\"\n",
       " memory_limit: 268435456\n",
       " locality {\n",
       " }\n",
       " incarnation: 12917984367299676993, name: \"/device:XLA_CPU:0\"\n",
       " device_type: \"XLA_CPU\"\n",
       " memory_limit: 17179869184\n",
       " locality {\n",
       " }\n",
       " incarnation: 17933501727488648493\n",
       " physical_device_desc: \"device: XLA_CPU device\", name: \"/device:XLA_GPU:0\"\n",
       " device_type: \"XLA_GPU\"\n",
       " memory_limit: 17179869184\n",
       " locality {\n",
       " }\n",
       " incarnation: 12242937410948615564\n",
       " physical_device_desc: \"device: XLA_GPU device\", name: \"/device:GPU:0\"\n",
       " device_type: \"GPU\"\n",
       " memory_limit: 11330115994\n",
       " locality {\n",
       "   bus_id: 1\n",
       "   links {\n",
       "   }\n",
       " }\n",
       " incarnation: 3015438579864934307\n",
       " physical_device_desc: \"device: 0, name: Tesla K80, pci bus id: 0000:00:1e.0, compute capability: 3.7\"]"
      ]
     },
     "execution_count": 3,
     "metadata": {},
     "output_type": "execute_result"
    }
   ],
   "source": [
    "from tensorflow.python.client import device_lib\n",
    "device_lib.list_local_devices()"
   ]
  },
  {
   "cell_type": "code",
   "execution_count": 4,
   "metadata": {},
   "outputs": [
    {
     "data": {
      "text/plain": [
       "True"
      ]
     },
     "execution_count": 4,
     "metadata": {},
     "output_type": "execute_result"
    }
   ],
   "source": [
    "tf.enable_eager_execution()\n",
    "tf.executing_eagerly()"
   ]
  },
  {
   "cell_type": "markdown",
   "metadata": {},
   "source": [
    "下記を確認する。\n",
    "* print(tf.\\_\\_version\\_\\_)の出力が1.15.0であること\n",
    "* 学習を行う場合はdevice_lib.list_local_devices()の出力にGPUが含まれること\n",
    "* tf.executing_eagerly()がTrueになっており、eager executionが可能になっていること"
   ]
  },
  {
   "cell_type": "raw",
   "metadata": {},
   "source": [
    "# ファイルのダウンロード\n",
    "path_to_zip = tf.keras.utils.get_file(\n",
    "    'spa-eng.zip', origin='http://storage.googleapis.com/download.tensorflow.org/data/spa-eng.zip',\n",
    "    extract=True)\n",
    "\n",
    "path_to_file = os.path.dirname(path_to_zip)+\"/spa-eng/spa.txt\""
   ]
  },
  {
   "cell_type": "markdown",
   "metadata": {},
   "source": [
    "# 1. データのロード\n",
    "* 前提として、ノートブックと課題であるsmall_parallel_enjaをgit cloneしたものを同じディレクトリに置く。"
   ]
  },
  {
   "cell_type": "code",
   "execution_count": 5,
   "metadata": {},
   "outputs": [],
   "source": [
    "# ユニコードファイルを ascii に変換\n",
    "def unicode_to_ascii(s):\n",
    "    return ''.join(c for c in unicodedata.normalize('NFD', s)\n",
    "        if unicodedata.category(c) != 'Mn')\n",
    "\n",
    "\n",
    "def preprocess_sentence(w):\n",
    "    w = w.rstrip().strip()\n",
    "\n",
    "    # 文の開始と終了のトークンを付加\n",
    "    # モデルが予測をいつ開始し、いつ終了すれば良いかを知らせるため\n",
    "    w = '<start> ' + w + ' <end>'\n",
    "    return w"
   ]
  },
  {
   "cell_type": "code",
   "execution_count": 6,
   "metadata": {},
   "outputs": [
    {
     "name": "stdout",
     "output_type": "stream",
     "text": [
      "<start> i can 't tell who will arrive first . <end>\n",
      "<start> 誰 が 一番 に 着 く か 私 に は 分か り ま せ ん 。 <end>\n"
     ]
    }
   ],
   "source": [
    "en_sentence = \"i can 't tell who will arrive first .\"\n",
    "ja_sentence = \"誰 が 一番 に 着 く か 私 に は 分か り ま せ ん 。\"\n",
    "print(preprocess_sentence(en_sentence))\n",
    "print(preprocess_sentence(ja_sentence))"
   ]
  },
  {
   "cell_type": "code",
   "execution_count": 7,
   "metadata": {},
   "outputs": [],
   "source": [
    "def create_dataset(path, num_examples):\n",
    "    with open(path) as f:\n",
    "        word_pairs = f.readlines()\n",
    "    word_pairs = [preprocess_sentence(sentence) for sentence in word_pairs]\n",
    "\n",
    "    return word_pairs[:num_examples]"
   ]
  },
  {
   "cell_type": "code",
   "execution_count": 8,
   "metadata": {},
   "outputs": [
    {
     "name": "stdout",
     "output_type": "stream",
     "text": [
      "<start> he thought irritably . <end>\n",
      "<start> 彼 は いらだ ち ながら 思 っ た 。 <end>\n"
     ]
    }
   ],
   "source": [
    "# データの読み込み\n",
    "path_train_en = 'small_parallel_enja/train.en'\n",
    "path_train_ja = 'small_parallel_enja/train.ja'\n",
    "en = create_dataset(path_train_en, None)\n",
    "ja = create_dataset(path_train_ja, None)\n",
    "print(en[-1])\n",
    "print(ja[-1])"
   ]
  },
  {
   "cell_type": "code",
   "execution_count": 9,
   "metadata": {},
   "outputs": [
    {
     "data": {
      "text/plain": [
       "[\"<start> i can 't tell who will arrive first . <end>\",\n",
       " '<start> many animals have been destroyed by men . <end>',\n",
       " \"<start> i 'm in the tennis club . <end>\",\n",
       " '<start> emi looks happy . <end>',\n",
       " '<start> please bear this fact in mind . <end>',\n",
       " '<start> she takes care of my children . <end>',\n",
       " '<start> we want to be international . <end>',\n",
       " '<start> you ought not to break your promise . <end>',\n",
       " '<start> when you cross the street , watch out for cars . <end>',\n",
       " '<start> i have nothing to live for . <end>']"
      ]
     },
     "execution_count": 9,
     "metadata": {},
     "output_type": "execute_result"
    }
   ],
   "source": [
    "en[0:10]"
   ]
  },
  {
   "cell_type": "markdown",
   "metadata": {},
   "source": [
    "# 2. データの前処理\n",
    "通常、言語データを時系列データとして解析する際は、以下のようなステップをたどる\n",
    "1. 文字列の読み込み\n",
    "2. 単語単位への分解\n",
    "3. 単語へのID割り振り\n",
    "4. 単語列からIDの羅列への変換\n",
    "\n",
    "今回のデータセットは単語単位への分解がすでに終わっているので省略できる。"
   ]
  },
  {
   "cell_type": "code",
   "execution_count": 10,
   "metadata": {},
   "outputs": [],
   "source": [
    "def max_length(tensor):\n",
    "    return max(len(t) for t in tensor)"
   ]
  },
  {
   "cell_type": "code",
   "execution_count": 11,
   "metadata": {},
   "outputs": [],
   "source": [
    "def tokenize(lang):\n",
    "    lang_tokenizer = tf.keras.preprocessing.text.Tokenizer(filters='', oov_token='<unk>')\n",
    "    lang_tokenizer.fit_on_texts(lang)\n",
    "\n",
    "    tensor = lang_tokenizer.texts_to_sequences(lang)\n",
    "\n",
    "    tensor = tf.keras.preprocessing.sequence.pad_sequences(tensor, padding='post')\n",
    "\n",
    "    return tensor, lang_tokenizer"
   ]
  },
  {
   "cell_type": "code",
   "execution_count": 12,
   "metadata": {},
   "outputs": [],
   "source": [
    "def load_dataset(path, num_examples=None):\n",
    "    # クリーニングされた入力と出力のペアを生成\n",
    "    lang = create_dataset(path, num_examples)\n",
    "\n",
    "    tensor, lang_tokenizer = tokenize(lang)\n",
    "\n",
    "    return tensor, lang_tokenizer"
   ]
  },
  {
   "cell_type": "code",
   "execution_count": 13,
   "metadata": {},
   "outputs": [],
   "source": [
    "# 単語へのIDの割り振りとID列への変換\n",
    "# このサイズのデータセットで実験\n",
    "num_examples = None\n",
    "input_tensor, inp_lang = load_dataset(path_train_en, num_examples)\n",
    "target_tensor, targ_lang = load_dataset(path_train_ja, num_examples)\n",
    "# ターゲットテンソルの最大長を計算\n",
    "max_length_targ, max_length_inp = max_length(target_tensor), max_length(input_tensor)"
   ]
  },
  {
   "cell_type": "code",
   "execution_count": 14,
   "metadata": {},
   "outputs": [
    {
     "data": {
      "text/plain": [
       "18"
      ]
     },
     "execution_count": 14,
     "metadata": {},
     "output_type": "execute_result"
    }
   ],
   "source": [
    "max_length_targ"
   ]
  },
  {
   "cell_type": "code",
   "execution_count": 15,
   "metadata": {},
   "outputs": [
    {
     "name": "stdout",
     "output_type": "stream",
     "text": [
      "40000 40000 10000 10000\n"
     ]
    }
   ],
   "source": [
    "# 80-20で分割を行い、訓練用と検証用のデータセットを作成\n",
    "input_tensor_train, input_tensor_val, target_tensor_train, target_tensor_val = train_test_split(input_tensor, target_tensor, test_size=0.2)\n",
    "\n",
    "# 長さを表示\n",
    "print(len(input_tensor_train), len(target_tensor_train), len(input_tensor_val), len(target_tensor_val))"
   ]
  },
  {
   "cell_type": "code",
   "execution_count": 16,
   "metadata": {},
   "outputs": [],
   "source": [
    "def convert(lang, tensor):\n",
    "    for t in tensor:\n",
    "        if t!=0:\n",
    "            print (\"%d ----> %s\" % (t, lang.index_word[t]))"
   ]
  },
  {
   "cell_type": "code",
   "execution_count": 17,
   "metadata": {},
   "outputs": [
    {
     "name": "stdout",
     "output_type": "stream",
     "text": [
      "Input Language; index to word mapping\n",
      "2 ----> <start>\n",
      "10 ----> he\n",
      "1598 ----> regarded\n",
      "5 ----> the\n",
      "227 ----> story\n",
      "39 ----> as\n",
      "11 ----> a\n",
      "832 ----> joke\n",
      "4 ----> .\n",
      "3 ----> <end>\n",
      "\n",
      "Target Language; index to word mapping\n",
      "2 ----> <start>\n",
      "15 ----> 彼\n",
      "5 ----> は\n",
      "27 ----> その\n",
      "61 ----> 話\n",
      "9 ----> を\n",
      "757 ----> 冗談\n",
      "23 ----> だ\n",
      "25 ----> と\n",
      "139 ----> 考え\n",
      "8 ----> た\n",
      "4 ----> 。\n",
      "3 ----> <end>\n"
     ]
    }
   ],
   "source": [
    "print (\"Input Language; index to word mapping\")\n",
    "convert(inp_lang, input_tensor_train[0])\n",
    "print ()\n",
    "print (\"Target Language; index to word mapping\")\n",
    "convert(targ_lang, target_tensor_train[0])"
   ]
  },
  {
   "cell_type": "markdown",
   "metadata": {},
   "source": [
    "# 3. モデルの定義"
   ]
  },
  {
   "cell_type": "markdown",
   "metadata": {},
   "source": [
    "データの処理の流れは下記\n",
    "1. Encorderで入力をhidden stateに変換\n",
    "    1. 入力された単語IDをembedding\n",
    "    2. BiLSTMでhidden stateに変換\n",
    "2. Decorderで文字列として出力\n",
    "    1. 前時刻のdecorder outputとhidden stateをLSTMでhidden stateに変換(こちら側は一方通行のLSTM)\n",
    "    2. 全結合層で単語に出力"
   ]
  },
  {
   "cell_type": "code",
   "execution_count": 18,
   "metadata": {},
   "outputs": [],
   "source": [
    "BUFFER_SIZE = len(input_tensor_train)\n",
    "BATCH_SIZE = 128\n",
    "steps_per_epoch = len(input_tensor_train)//BATCH_SIZE\n",
    "embedding_dim = 256\n",
    "units = 1024\n",
    "vocab_inp_size = len(inp_lang.word_index)+1\n",
    "vocab_tar_size = len(targ_lang.word_index)+1\n",
    "\n",
    "dataset = tf.data.Dataset.from_tensor_slices((input_tensor_train, target_tensor_train)).shuffle(BUFFER_SIZE)\n",
    "dataset = dataset.batch(BATCH_SIZE, drop_remainder=True)"
   ]
  },
  {
   "cell_type": "code",
   "execution_count": 19,
   "metadata": {},
   "outputs": [
    {
     "data": {
      "text/plain": [
       "(TensorShape([Dimension(128), Dimension(18)]),\n",
       " TensorShape([Dimension(128), Dimension(18)]))"
      ]
     },
     "execution_count": 19,
     "metadata": {},
     "output_type": "execute_result"
    }
   ],
   "source": [
    "example_input_batch, example_target_batch = next(iter(dataset))\n",
    "example_input_batch.shape, example_target_batch.shape"
   ]
  },
  {
   "cell_type": "code",
   "execution_count": 20,
   "metadata": {},
   "outputs": [],
   "source": [
    "class Encoder(tf.keras.Model):\n",
    "    def __init__(self, vocab_size, embedding_dim, enc_units, batch_sz):\n",
    "        super(Encoder, self).__init__()\n",
    "        self.batch_sz = batch_sz\n",
    "        self.enc_units = enc_units//2\n",
    "        self.embedding = tf.keras.layers.Embedding(vocab_size, embedding_dim)\n",
    "        self.lstm = tf.keras.layers.Bidirectional(\n",
    "                             tf.keras.layers.LSTM(self.enc_units,\n",
    "                                                   return_sequences=False,\n",
    "                                                   return_state=True,\n",
    "                                                   recurrent_initializer='glorot_uniform')\n",
    "                             ,merge_mode='concat')\n",
    "\n",
    "    def call(self, x, hidden):\n",
    "        x = self.embedding(x)\n",
    "        output, f_memory, f_state, b_memory, b_state = self.lstm(x, initial_state = hidden)\n",
    "        return output, f_memory, f_state, b_memory, b_state\n",
    "\n",
    "    def initialize_hidden_state(self):\n",
    "        return [tf.zeros((self.batch_sz, self.enc_units)),\n",
    "                tf.zeros((self.batch_sz, self.enc_units)),\n",
    "                tf.zeros((self.batch_sz, self.enc_units)),\n",
    "                tf.zeros((self.batch_sz, self.enc_units)),]"
   ]
  },
  {
   "cell_type": "code",
   "execution_count": 21,
   "metadata": {},
   "outputs": [],
   "source": [
    "encoder = Encoder(vocab_inp_size, embedding_dim, units, BATCH_SIZE)"
   ]
  },
  {
   "cell_type": "code",
   "execution_count": 22,
   "metadata": {},
   "outputs": [
    {
     "name": "stdout",
     "output_type": "stream",
     "text": [
      "Encoder output shape: (batch size, units) (128, 1024)\n",
      "Encoder f-memory shape: (batch size, units) (128, 512)\n",
      "Encoder f-hidden state shape: (batch size, units) (128, 512)\n"
     ]
    }
   ],
   "source": [
    "# サンプル入力\n",
    "sample_f_memory, sample_f_state, sample_b_memory, sample_b_state = encoder.initialize_hidden_state()\n",
    "sample_output, sample_f_memory, sample_f_state, sample_b_memory, sample_b_state = encoder(example_input_batch, [sample_f_state, sample_f_memory, sample_b_state, sample_b_memory])\n",
    "print ('Encoder output shape: (batch size, units) {}'.format(sample_output.shape))\n",
    "print ('Encoder f-memory shape: (batch size, units) {}'.format(sample_f_memory.shape))\n",
    "print ('Encoder f-hidden state shape: (batch size, units) {}'.format(sample_f_state.shape))"
   ]
  },
  {
   "cell_type": "code",
   "execution_count": 23,
   "metadata": {},
   "outputs": [],
   "source": [
    "class Decoder(tf.keras.Model):\n",
    "    def __init__(self, vocab_size, embedding_dim, dec_units, batch_sz):\n",
    "        super(Decoder, self).__init__()\n",
    "        self.batch_sz = batch_sz\n",
    "        self.dec_units = dec_units\n",
    "        self.embedding = tf.keras.layers.Embedding(vocab_size, embedding_dim)\n",
    "        self.lstm = tf.keras.layers.LSTM(self.dec_units,\n",
    "                                       return_sequences=False,\n",
    "                                       return_state=True,\n",
    "                                       recurrent_initializer='glorot_uniform')\n",
    "                            \n",
    "        self.fc = tf.keras.layers.Dense(vocab_size)\n",
    "\n",
    "        # アテンションのため\n",
    "        #self.attention = BahdanauAttention(self.dec_units)\n",
    "\n",
    "    def call(self, x, hidden):\n",
    "        # enc_output の shape == (batch_size, max_length, hidden_size)\n",
    "        #context_vector, attention_weights = self.attention(hidden, enc_output)\n",
    "\n",
    "        # 埋め込み層を通過したあとの x の shape  == (batch_size, 1, embedding_dim)\n",
    "        x = self.embedding(x)\n",
    "\n",
    "        # 結合後の x の shape == (batch_size, 1, embedding_dim + hidden_size)\n",
    "        #x = tf.concat([tf.expand_dims(hidden, 1), x], axis=-1)\n",
    "\n",
    "        # 結合したベクトルを GRU 層に渡す\n",
    "        output, memory, state = self.lstm(x, initial_state = hidden)\n",
    "\n",
    "        # output shape == (batch_size * 1, hidden_size)\n",
    "        #output = tf.reshape(output, (-1, output.shape[2]))\n",
    "\n",
    "        # output shape == (batch_size, vocab)\n",
    "        x = self.fc(output)\n",
    "\n",
    "        return x, memory, state"
   ]
  },
  {
   "cell_type": "code",
   "execution_count": 24,
   "metadata": {},
   "outputs": [],
   "source": [
    "decoder = Decoder(vocab_tar_size, embedding_dim, units, BATCH_SIZE)"
   ]
  },
  {
   "cell_type": "code",
   "execution_count": 25,
   "metadata": {},
   "outputs": [
    {
     "name": "stdout",
     "output_type": "stream",
     "text": [
      "Decoder output shape: (batch_size, vocab size) (128, 8778)\n"
     ]
    }
   ],
   "source": [
    "sample_decoder_output, _, _ = decoder(tf.random.uniform((128, 1)), [tf.concat([sample_f_state,sample_b_state],axis=1), tf.zeros((BATCH_SIZE, units))])\n",
    "\n",
    "print ('Decoder output shape: (batch_size, vocab size) {}'.format(sample_decoder_output.shape))"
   ]
  },
  {
   "cell_type": "code",
   "execution_count": 26,
   "metadata": {},
   "outputs": [],
   "source": [
    "optimizer = tf.keras.optimizers.Adam()\n",
    "loss_object = tf.keras.losses.SparseCategoricalCrossentropy(\n",
    "    from_logits=True, reduction='none')\n",
    "\n",
    "def loss_function(real, pred):\n",
    "    mask = tf.math.logical_not(tf.math.equal(real, 0))\n",
    "    loss_ = loss_object(real, pred)\n",
    "\n",
    "    mask = tf.cast(mask, dtype=loss_.dtype)\n",
    "    loss_ *= mask\n",
    "\n",
    "    return tf.reduce_mean(loss_)"
   ]
  },
  {
   "cell_type": "markdown",
   "metadata": {},
   "source": [
    "学習途中段階のモデルはS3に保存した。"
   ]
  },
  {
   "cell_type": "code",
   "execution_count": 27,
   "metadata": {},
   "outputs": [],
   "source": [
    "checkpoint_dir = 's3://e-qual-task/0202-BiLSTM/'\n",
    "checkpoint_prefix = os.path.join(checkpoint_dir, \"ckpt\")\n",
    "checkpoint = tf.train.Checkpoint(optimizer=optimizer,\n",
    "                                 encoder=encoder,\n",
    "                                 decoder=decoder)"
   ]
  },
  {
   "cell_type": "code",
   "execution_count": 28,
   "metadata": {},
   "outputs": [
    {
     "data": {
      "text/plain": [
       "'s3://e-qual-task/0202-BiLSTM/ckpt'"
      ]
     },
     "execution_count": 28,
     "metadata": {},
     "output_type": "execute_result"
    }
   ],
   "source": [
    "checkpoint_prefix"
   ]
  },
  {
   "cell_type": "code",
   "execution_count": 29,
   "metadata": {},
   "outputs": [],
   "source": [
    "@tf.function\n",
    "def train_step(inp, targ, enc_f_hidden, enc_f_memory, enc_b_hidden, enc_b_memory):\n",
    "    loss = 0\n",
    "\n",
    "    with tf.GradientTape() as tape:\n",
    "        enc_output, enc_f_memory, enc_f_hidden, enc_b_memory, enc_b_hidden = encoder(inp, [enc_f_hidden, enc_f_memory, enc_b_hidden, enc_b_memory])\n",
    "\n",
    "        dec_hidden = tf.concat([enc_f_hidden, enc_f_hidden], axis=1)\n",
    "\n",
    "        dec_input = tf.expand_dims([targ_lang.word_index['<start>']] * BATCH_SIZE, 1)\n",
    "        dec_memory = tf.zeros((BATCH_SIZE, units))\n",
    "\n",
    "        # Teacher Forcing - 正解値を次の入力として供給\n",
    "        for t in range(1, targ.shape[1]):\n",
    "            # passing enc_output to the decoder\n",
    "            predictions, dec_memory, dec_hidden = decoder(dec_input, [dec_hidden, dec_memory])\n",
    "\n",
    "            loss += loss_function(targ[:, t], predictions)\n",
    "\n",
    "            # Teacher Forcing を使用\n",
    "            dec_input = tf.expand_dims(targ[:, t], 1)\n",
    "\n",
    "    batch_loss = (loss / int(targ.shape[1]))\n",
    "\n",
    "    variables = encoder.trainable_variables + decoder.trainable_variables\n",
    "\n",
    "    gradients = tape.gradient(loss, variables)\n",
    "\n",
    "    optimizer.apply_gradients(zip(gradients, variables))\n",
    "\n",
    "    return batch_loss"
   ]
  },
  {
   "cell_type": "markdown",
   "metadata": {},
   "source": [
    "# 4. BLEUスコア評価用関数の定義\n",
    "1. NMTモデルを使って英→日の翻訳\n",
    "2. テストデータを使ってモデルの評価"
   ]
  },
  {
   "cell_type": "code",
   "execution_count": 30,
   "metadata": {},
   "outputs": [],
   "source": [
    "def evaluate(sentence):\n",
    "    #attention_plot = np.zeros((max_length_targ, max_length_inp))\n",
    "\n",
    "    sentence = preprocess_sentence(sentence)\n",
    "\n",
    "    inputs = []\n",
    "    for i in sentence.split(' '):\n",
    "        try:\n",
    "            inputs.append(inp_lang.word_index[i])\n",
    "        except KeyError:\n",
    "            inputs.append(inp_lang.word_index['<unk>'])\n",
    "\n",
    "    inputs = tf.keras.preprocessing.sequence.pad_sequences([inputs],\n",
    "                                                           maxlen=max_length_inp,\n",
    "                                                           padding='post')\n",
    "    inputs = tf.convert_to_tensor(inputs)\n",
    "\n",
    "    result = ''\n",
    "\n",
    "    f_hidden = tf.zeros((1, units//2))\n",
    "    f_memory = tf.zeros((1, units//2))\n",
    "    b_hidden = tf.zeros((1, units//2))\n",
    "    b_memory = tf.zeros((1, units//2))\n",
    "    #inputs = tf.expand_dims(inputs,0)\n",
    "    enc_output, enc_f_memory, enc_f_hidden, enc_b_memory, enc_b_hidden = encoder(inputs, [f_hidden, f_memory, b_hidden, b_hidden])\n",
    "\n",
    "    dec_hidden = tf.concat([enc_f_hidden, enc_b_hidden],axis=1)\n",
    "    #return dec_hidden\n",
    "    dec_input = tf.expand_dims([targ_lang.word_index['<start>']], 0)\n",
    "    dec_memory = tf.zeros((1, units))\n",
    "\n",
    "\n",
    "    for t in range(max_length_targ):\n",
    "        predictions, dec_memory, dec_hidden = decoder(dec_input, [dec_hidden, dec_memory])\n",
    "        '''\n",
    "        # 後ほどプロットするためにアテンションの重みを保存\n",
    "        attention_weights = tf.reshape(attention_weights, (-1, ))\n",
    "        attention_plot[t] = attention_weights.numpy()\n",
    "        '''\n",
    "\n",
    "        predicted_id = tf.argmax(predictions[0]).numpy()\n",
    "\n",
    "        result += targ_lang.index_word[predicted_id] + ' '\n",
    "\n",
    "        if targ_lang.index_word[predicted_id] == '<end>':\n",
    "            return result, sentence\n",
    "\n",
    "        # 予測された ID がモデルに戻される\n",
    "        dec_input = tf.expand_dims([predicted_id], 0)\n",
    "\n",
    "    return result, sentence"
   ]
  },
  {
   "cell_type": "raw",
   "metadata": {},
   "source": [
    "# アテンションの重みをプロットする関数\n",
    "def plot_attention(attention, sentence, predicted_sentence):\n",
    "    fig = plt.figure(figsize=(10,10))\n",
    "    ax = fig.add_subplot(1, 1, 1)\n",
    "    ax.matshow(attention, cmap='viridis')\n",
    "\n",
    "    fontdict = {'fontsize': 14}\n",
    "\n",
    "    ax.set_xticklabels([''] + sentence, fontdict=fontdict, rotation=90)\n",
    "    ax.set_yticklabels([''] + predicted_sentence, fontdict=fontdict)\n",
    "\n",
    "    ax.xaxis.set_major_locator(ticker.MultipleLocator(1))\n",
    "    ax.yaxis.set_major_locator(ticker.MultipleLocator(1))\n",
    "\n",
    "    plt.show()"
   ]
  },
  {
   "cell_type": "code",
   "execution_count": 31,
   "metadata": {},
   "outputs": [],
   "source": [
    "def translate(sentence):\n",
    "    result, sentence= evaluate(sentence)\n",
    "\n",
    "    print('Input: %s' % (sentence))\n",
    "    print('Predicted translation: {}'.format(result))\n",
    "\n",
    "    #attention_plot = attention_plot[:len(result.split(' ')), :len(sentence.split(' '))]\n",
    "    #plot_attention(attention_plot, sentence.split(' '), result.split(' '))"
   ]
  },
  {
   "cell_type": "code",
   "execution_count": 32,
   "metadata": {},
   "outputs": [],
   "source": [
    "# 評価用にtestデータをロードしておく\n",
    "path_test_en = 'small_parallel_enja/test.en'\n",
    "with open(path_test_en) as f:\n",
    "    en_test = f.readlines()\n",
    "en_test = [w.rstrip().strip() for w in en_test]\n",
    "    \n",
    "path_test_ja = 'small_parallel_enja/test.ja'\n",
    "with open(path_test_ja) as f:\n",
    "    ja_test = f.readlines()\n",
    "ja_test = [w.rstrip().strip() for w in ja_test]\n",
    "ja_test = ja_test[:100]\n",
    "# BLEUのライブラリのインプットにデータ形式をあわせる\n",
    "ja_test_l = [sentence.split() for sentence in ja_test]"
   ]
  },
  {
   "cell_type": "code",
   "execution_count": 33,
   "metadata": {},
   "outputs": [],
   "source": [
    "# 学習中に呼び出してモニタリングするために関数化\n",
    "def calc_BLEU(pred_l,test_l):\n",
    "    score = [sentence_bleu([reference], candidate) for reference, candidate in zip(test_l,pred_l )]\n",
    "    return np.mean(score)"
   ]
  },
  {
   "cell_type": "code",
   "execution_count": 34,
   "metadata": {},
   "outputs": [],
   "source": [
    "# BLEUの警告がうるさいので静かにさせる\n",
    "import warnings\n",
    "warnings.simplefilter('ignore')"
   ]
  },
  {
   "cell_type": "markdown",
   "metadata": {},
   "source": [
    "# 5. 学習\n",
    "学習は20エポック行う。"
   ]
  },
  {
   "cell_type": "code",
   "execution_count": 35,
   "metadata": {},
   "outputs": [
    {
     "name": "stdout",
     "output_type": "stream",
     "text": [
      "WARNING:tensorflow:From /home/ec2-user/anaconda3/envs/tensorflow_p36/lib/python3.6/site-packages/tensorflow_core/python/ops/math_grad.py:1424: where (from tensorflow.python.ops.array_ops) is deprecated and will be removed in a future version.\n",
      "Instructions for updating:\n",
      "Use tf.where in 2.0, which has the same broadcast rule as np.where\n",
      "WARNING:tensorflow:Gradients do not exist for variables ['encoder/bidirectional/backward_lstm/kernel:0', 'encoder/bidirectional/backward_lstm/recurrent_kernel:0', 'encoder/bidirectional/backward_lstm/bias:0'] when minimizing the loss.\n",
      "WARNING:tensorflow:Gradients do not exist for variables ['encoder/bidirectional/backward_lstm/kernel:0', 'encoder/bidirectional/backward_lstm/recurrent_kernel:0', 'encoder/bidirectional/backward_lstm/bias:0'] when minimizing the loss.\n",
      "Epoch 1 Batch 0 Loss 6.3174\n",
      "Epoch 1 Batch 100 Loss 3.0940\n",
      "Epoch 1 Batch 200 Loss 2.7646\n",
      "Epoch 1 Batch 300 Loss 2.5085\n",
      "Epoch 1 Loss 2.9730 BLEU score 0.0075\n",
      "Time taken for 1 epoch 195.57149648666382 sec\n",
      "\n",
      "Epoch 2 Batch 0 Loss 2.5630\n",
      "Epoch 2 Batch 100 Loss 2.3111\n",
      "Epoch 2 Batch 200 Loss 2.2987\n",
      "Epoch 2 Batch 300 Loss 2.1960\n",
      "Epoch 2 Loss 2.3174 BLEU score 0.0046\n",
      "Time taken for 1 epoch 129.86896085739136 sec\n",
      "\n",
      "Epoch 3 Batch 0 Loss 2.2687\n",
      "Epoch 3 Batch 100 Loss 2.1035\n",
      "Epoch 3 Batch 200 Loss 2.1556\n",
      "Epoch 3 Batch 300 Loss 2.0708\n",
      "Epoch 3 Loss 2.1409 BLEU score 0.0046\n",
      "Time taken for 1 epoch 130.2858588695526 sec\n",
      "\n",
      "Epoch 4 Batch 0 Loss 2.1603\n",
      "Epoch 4 Batch 100 Loss 2.0073\n",
      "Epoch 4 Batch 200 Loss 2.0657\n",
      "Epoch 4 Batch 300 Loss 2.0007\n",
      "Epoch 4 Loss 2.0525 BLEU score 0.0036\n",
      "Time taken for 1 epoch 133.3902087211609 sec\n",
      "\n",
      "Epoch 5 Batch 0 Loss 2.0879\n",
      "Epoch 5 Batch 100 Loss 1.9481\n",
      "Epoch 5 Batch 200 Loss 2.0061\n",
      "Epoch 5 Batch 300 Loss 1.9459\n",
      "Epoch 5 Loss 1.9934 BLEU score 0.0036\n",
      "Time taken for 1 epoch 139.1839566230774 sec\n",
      "\n",
      "Epoch 6 Batch 0 Loss 2.0304\n",
      "Epoch 6 Batch 100 Loss 1.9076\n",
      "Epoch 6 Batch 200 Loss 1.9674\n",
      "Epoch 6 Batch 300 Loss 1.8974\n",
      "Epoch 6 Loss 1.9498 BLEU score 0.0093\n",
      "Time taken for 1 epoch 127.24026417732239 sec\n",
      "\n",
      "Epoch 7 Batch 0 Loss 1.9853\n",
      "Epoch 7 Batch 100 Loss 1.8725\n",
      "Epoch 7 Batch 200 Loss 1.9366\n",
      "Epoch 7 Batch 300 Loss 1.8679\n",
      "Epoch 7 Loss 1.9153 BLEU score 0.0021\n",
      "Time taken for 1 epoch 132.41679406166077 sec\n",
      "\n",
      "Epoch 8 Batch 0 Loss 1.9527\n",
      "Epoch 8 Batch 100 Loss 1.8495\n",
      "Epoch 8 Batch 200 Loss 1.8980\n",
      "Epoch 8 Batch 300 Loss 1.8353\n",
      "Epoch 8 Loss 1.8843 BLEU score 0.0093\n",
      "Time taken for 1 epoch 127.74840831756592 sec\n",
      "\n",
      "Epoch 9 Batch 0 Loss 1.9221\n",
      "Epoch 9 Batch 100 Loss 1.8230\n",
      "Epoch 9 Batch 200 Loss 1.8774\n",
      "Epoch 9 Batch 300 Loss 1.8156\n",
      "Epoch 9 Loss 1.8584 BLEU score 0.0124\n",
      "Time taken for 1 epoch 131.60534715652466 sec\n",
      "\n",
      "Epoch 10 Batch 0 Loss 1.9001\n",
      "Epoch 10 Batch 100 Loss 1.8020\n",
      "Epoch 10 Batch 200 Loss 1.8500\n",
      "Epoch 10 Batch 300 Loss 1.7880\n",
      "Epoch 10 Loss 1.8345 BLEU score 0.0124\n",
      "Time taken for 1 epoch 138.03326320648193 sec\n",
      "\n",
      "Epoch 11 Batch 0 Loss 1.8809\n",
      "Epoch 11 Batch 100 Loss 1.7831\n",
      "Epoch 11 Batch 200 Loss 1.8349\n",
      "Epoch 11 Batch 300 Loss 1.7725\n",
      "Epoch 11 Loss 1.8143 BLEU score 0.0124\n",
      "Time taken for 1 epoch 132.01126265525818 sec\n",
      "\n",
      "Epoch 12 Batch 0 Loss 1.8720\n",
      "Epoch 12 Batch 100 Loss 1.7678\n",
      "Epoch 12 Batch 200 Loss 1.8239\n",
      "Epoch 12 Batch 300 Loss 1.7473\n",
      "Epoch 12 Loss 1.7970 BLEU score 0.0000\n",
      "Time taken for 1 epoch 128.92288279533386 sec\n",
      "\n",
      "Epoch 13 Batch 0 Loss 1.8455\n",
      "Epoch 13 Batch 100 Loss 1.7519\n",
      "Epoch 13 Batch 200 Loss 1.8102\n",
      "Epoch 13 Batch 300 Loss 1.7281\n",
      "Epoch 13 Loss 1.7800 BLEU score 0.0124\n",
      "Time taken for 1 epoch 132.02639174461365 sec\n",
      "\n",
      "Epoch 14 Batch 0 Loss 1.8238\n",
      "Epoch 14 Batch 100 Loss 1.7436\n",
      "Epoch 14 Batch 200 Loss 1.7898\n",
      "Epoch 14 Batch 300 Loss 1.7150\n",
      "Epoch 14 Loss 1.7635 BLEU score 0.0000\n",
      "Time taken for 1 epoch 133.41582918167114 sec\n",
      "\n",
      "Epoch 15 Batch 0 Loss 1.8048\n",
      "Epoch 15 Batch 100 Loss 1.7251\n",
      "Epoch 15 Batch 200 Loss 1.7686\n",
      "Epoch 15 Batch 300 Loss 1.6858\n",
      "Epoch 15 Loss 1.7435 BLEU score 0.0050\n",
      "Time taken for 1 epoch 146.30949568748474 sec\n",
      "\n",
      "Epoch 16 Batch 0 Loss 1.7789\n",
      "Epoch 16 Batch 100 Loss 1.7078\n",
      "Epoch 16 Batch 200 Loss 1.7415\n",
      "Epoch 16 Batch 300 Loss 1.6766\n",
      "Epoch 16 Loss 1.7235 BLEU score 0.0000\n",
      "Time taken for 1 epoch 129.11706566810608 sec\n",
      "\n",
      "Epoch 17 Batch 0 Loss 1.7546\n",
      "Epoch 17 Batch 100 Loss 1.6872\n",
      "Epoch 17 Batch 200 Loss 1.7241\n",
      "Epoch 17 Batch 300 Loss 1.6633\n",
      "Epoch 17 Loss 1.7029 BLEU score 0.0000\n",
      "Time taken for 1 epoch 128.7999861240387 sec\n",
      "\n",
      "Epoch 18 Batch 0 Loss 1.7381\n",
      "Epoch 18 Batch 100 Loss 1.6819\n",
      "Epoch 18 Batch 200 Loss 1.7104\n",
      "Epoch 18 Batch 300 Loss 1.6478\n",
      "Epoch 18 Loss 1.6855 BLEU score 0.0000\n",
      "Time taken for 1 epoch 128.89605593681335 sec\n",
      "\n",
      "Epoch 19 Batch 0 Loss 1.7221\n",
      "Epoch 19 Batch 100 Loss 1.6548\n",
      "Epoch 19 Batch 200 Loss 1.6992\n",
      "Epoch 19 Batch 300 Loss 1.6335\n",
      "Epoch 19 Loss 1.6709 BLEU score 0.0088\n",
      "Time taken for 1 epoch 131.73448300361633 sec\n",
      "\n",
      "Epoch 20 Batch 0 Loss 1.7121\n",
      "Epoch 20 Batch 100 Loss 1.6457\n",
      "Epoch 20 Batch 200 Loss 1.6800\n",
      "Epoch 20 Batch 300 Loss 1.6214\n",
      "Epoch 20 Loss 1.6548 BLEU score 0.0037\n",
      "Time taken for 1 epoch 146.81212759017944 sec\n",
      "\n"
     ]
    }
   ],
   "source": [
    "EPOCHS = 20\n",
    "stats = dict.fromkeys(('Epoch','Loss','BLEU'))\n",
    "stats['Epoch'], stats['Loss'], stats['BLEU'] = [], [], []\n",
    "BLEU_score = 0\n",
    "\n",
    "for epoch in range(EPOCHS):\n",
    "    start = time.time()\n",
    "\n",
    "    enc_f_hidden, enc_f_memory, enc_b_hidden, enc_b_memory = encoder.initialize_hidden_state()\n",
    "    total_loss = 0\n",
    "\n",
    "    for (batch, (inp, targ)) in enumerate(dataset.take(steps_per_epoch)):\n",
    "        batch_loss = train_step(inp, targ, enc_f_hidden, enc_f_memory, enc_b_hidden, enc_b_memory)\n",
    "        total_loss += batch_loss\n",
    "\n",
    "        if batch % 100 == 0:\n",
    "            print('Epoch {} Batch {} Loss {:.4f}'.format(epoch + 1,\n",
    "                                                         batch,\n",
    "                                                         batch_loss.numpy()))\n",
    "    # 5 エポックごとにモデル（のチェックポイント）を保存\n",
    "    if (epoch + 1) % 5 == 0:\n",
    "        checkpoint.save(file_prefix = checkpoint_prefix)\n",
    "\n",
    "    # エポックごとにBLEUスコアを評価\n",
    "    ja_pred = [evaluate(sentence)[0] for sentence in en_test[:100]]\n",
    "    ja_pred_l = [sentence.split() for sentence in ja_pred]\n",
    "    BLEU_score = calc_BLEU(ja_pred_l, ja_test_l)\n",
    "    \n",
    "    print('Epoch {} Loss {:.4f} BLEU score {:.4f}'.format(epoch + 1,\n",
    "                                                          total_loss / steps_per_epoch,\n",
    "                                                          BLEU_score))\n",
    "    print('Time taken for 1 epoch {} sec\\n'.format(time.time() - start))\n",
    "    stats['Epoch'].append(epoch + 1)\n",
    "    stats['Loss'].append(total_loss / steps_per_epoch)\n",
    "    stats['BLEU'].append(BLEU_score)\n"
   ]
  },
  {
   "cell_type": "code",
   "execution_count": 40,
   "metadata": {},
   "outputs": [
    {
     "data": {
      "text/plain": [
       "'彼 は その 問題 を 解 く の に は な い 。 <end> '"
      ]
     },
     "execution_count": 40,
     "metadata": {},
     "output_type": "execute_result"
    }
   ],
   "source": [
    "evaluate(en_test[8])[0]"
   ]
  },
  {
   "cell_type": "code",
   "execution_count": 41,
   "metadata": {},
   "outputs": [
    {
     "data": {
      "text/plain": [
       "'we have this game on ice .'"
      ]
     },
     "execution_count": 41,
     "metadata": {},
     "output_type": "execute_result"
    }
   ],
   "source": [
    "en_test[8]"
   ]
  },
  {
   "cell_type": "raw",
   "metadata": {},
   "source": [
    "checkpoint.save(checkpoint_prefix)"
   ]
  },
  {
   "cell_type": "code",
   "execution_count": 42,
   "metadata": {},
   "outputs": [
    {
     "data": {
      "text/plain": [
       "'ckpt/ckpt_0202/BiLSTM/-5'"
      ]
     },
     "execution_count": 42,
     "metadata": {},
     "output_type": "execute_result"
    }
   ],
   "source": [
    "checkpoint.save('ckpt/ckpt_0202/BiLSTM/')"
   ]
  },
  {
   "cell_type": "code",
   "execution_count": 44,
   "metadata": {},
   "outputs": [],
   "source": [
    "import pandas as pd\n",
    "df = pd.DataFrame(stats)\n",
    "df['Loss'] = df['Loss'].map(lambda x:x.numpy())\n",
    "df.to_csv('BiLSTM-0202.csv',index=False)"
   ]
  },
  {
   "cell_type": "markdown",
   "metadata": {},
   "source": [
    "# 6 評価と可視化\n",
    "得られたスコアをプロット"
   ]
  },
  {
   "cell_type": "code",
   "execution_count": 38,
   "metadata": {},
   "outputs": [
    {
     "data": {
      "text/plain": [
       "<tensorflow.python.training.tracking.util.InitializationOnlyStatus at 0x7f02b41df160>"
      ]
     },
     "execution_count": 38,
     "metadata": {},
     "output_type": "execute_result"
    }
   ],
   "source": [
    "# checkpoint_dir の中の最後のチェックポイントを復元\n",
    "#checkpoint.restore(tf.train.latest_checkpoint(checkpoint_dir))\n",
    "checkpoint.restore(tf.train.latest_checkpoint('ckpt/ckpt_0201/LSTM'))"
   ]
  },
  {
   "cell_type": "code",
   "execution_count": 45,
   "metadata": {},
   "outputs": [
    {
     "data": {
      "text/plain": [
       "<matplotlib.axes._subplots.AxesSubplot at 0x7f8001a555c0>"
      ]
     },
     "execution_count": 45,
     "metadata": {},
     "output_type": "execute_result"
    },
    {
     "data": {
      "image/png": "[encoded data removed]",
      "text/plain": [
       "<Figure size 432x288 with 1 Axes>"
      ]
     },
     "metadata": {},
     "output_type": "display_data"
    }
   ],
   "source": [
    "df[['Loss','Epoch']].plot('Epoch')"
   ]
  },
  {
   "cell_type": "code",
   "execution_count": 46,
   "metadata": {},
   "outputs": [
    {
     "data": {
      "text/plain": [
       "<matplotlib.axes._subplots.AxesSubplot at 0x7f80018fff28>"
      ]
     },
     "execution_count": 46,
     "metadata": {},
     "output_type": "execute_result"
    },
    {
     "data": {
      "image/png": "[encoded data removed]",
      "text/plain": [
       "<Figure size 432x288 with 1 Axes>"
      ]
     },
     "metadata": {},
     "output_type": "display_data"
    }
   ],
   "source": [
    "df[['BLEU','Epoch']].plot('Epoch')"
   ]
  }
 ],
 "metadata": {
  "kernelspec": {
   "display_name": "conda_tensorflow_p36",
   "language": "python",
   "name": "conda_tensorflow_p36"
  },
  "language_info": {
   "codemirror_mode": {
    "name": "ipython",
    "version": 3
   },
   "file_extension": ".py",
   "mimetype": "text/x-python",
   "name": "python",
   "nbconvert_exporter": "python",
   "pygments_lexer": "ipython3",
   "version": "3.6.5"
  },
  "toc-autonumbering": false,
  "toc-showtags": false
 },
 "nbformat": 4,
 "nbformat_minor": 4
}
