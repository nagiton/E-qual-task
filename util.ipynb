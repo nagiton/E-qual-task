{
 "cells": [
  {
   "cell_type": "code",
   "execution_count": 5,
   "metadata": {},
   "outputs": [
    {
     "name": "stdout",
     "output_type": "stream",
     "text": [
      "             total       used       free     shared    buffers     cached\n",
      "Mem:         61401       7235      54165        138        951       3617\n",
      "-/+ buffers/cache:       2665      58735\n",
      "Swap:            0          0          0\n"
     ]
    }
   ],
   "source": [
    "%%bash\n",
    "free -m"
   ]
  },
  {
   "cell_type": "code",
   "execution_count": 6,
   "metadata": {},
   "outputs": [
    {
     "name": "stdout",
     "output_type": "stream",
     "text": [
      "Sat Feb  1 07:40:30 2020       \n",
      "+-----------------------------------------------------------------------------+\n",
      "| NVIDIA-SMI 418.87.01    Driver Version: 418.87.01    CUDA Version: 10.1     |\n",
      "|-------------------------------+----------------------+----------------------+\n",
      "| GPU  Name        Persistence-M| Bus-Id        Disp.A | Volatile Uncorr. ECC |\n",
      "| Fan  Temp  Perf  Pwr:Usage/Cap|         Memory-Usage | GPU-Util  Compute M. |\n",
      "|===============================+======================+======================|\n",
      "|   0  Tesla K80           On   | 00000000:00:1E.0 Off |                    0 |\n",
      "| N/A   69C    P0   145W / 149W |  10965MiB / 11441MiB |     97%      Default |\n",
      "+-------------------------------+----------------------+----------------------+\n",
      "                                                                               \n",
      "+-----------------------------------------------------------------------------+\n",
      "| Processes:                                                       GPU Memory |\n",
      "|  GPU       PID   Type   Process name                             Usage      |\n",
      "|=============================================================================|\n",
      "|    0     20370      C   ...naconda3/envs/tensorflow_p36/bin/python 10952MiB |\n",
      "+-----------------------------------------------------------------------------+\n"
     ]
    }
   ],
   "source": [
    "%%bash\n",
    "nvidia-smi"
   ]
  },
  {
   "cell_type": "code",
   "execution_count": 3,
   "metadata": {},
   "outputs": [
    {
     "name": "stdout",
     "output_type": "stream",
     "text": [
      "Filesystem     1M-blocks  Used Available Use% Mounted on\n",
      "devtmpfs           30691     1     30691   1% /dev\n",
      "tmpfs              30701     0     30701   0% /dev/shm\n",
      "/dev/xvda1        100664 73195     27371  73% /\n",
      "/dev/xvdf           4976  3439      1265  74% /home/ec2-user/SageMaker\n"
     ]
    }
   ],
   "source": [
    "%%bash\n",
    "df -m"
   ]
  },
  {
   "cell_type": "code",
   "execution_count": 5,
   "metadata": {},
   "outputs": [
    {
     "name": "stdout",
     "output_type": "stream",
     "text": [
      "/home/ec2-user/SageMaker/E-qual-task\n"
     ]
    }
   ],
   "source": [
    "%%bash\n",
    "pwd"
   ]
  },
  {
   "cell_type": "code",
   "execution_count": null,
   "metadata": {},
   "outputs": [],
   "source": [
    "---------------------------------------------------------------------------\n",
    "KeyError                                  Traceback (most recent call last)\n",
    "<ipython-input-41-b5d1f39fa8ff> in <module>()\n",
    "----> 1 ja_pred = [evaluate(sentence)[0] for sentence in en_test] ##keyerrorの例外処理を入れる\n",
    "\n",
    "<ipython-input-41-b5d1f39fa8ff> in <listcomp>(.0)\n",
    "----> 1 ja_pred = [evaluate(sentence)[0] for sentence in en_test] ##keyerrorの例外処理を入れる\n",
    "\n",
    "<ipython-input-30-3bbd2a3f63f0> in evaluate(sentence)\n",
    "      4     sentence = preprocess_sentence(sentence)\n",
    "      5 \n",
    "----> 6     inputs = [inp_lang.word_index[i] for i in sentence.split(' ')]\n",
    "      7     inputs = tf.keras.preprocessing.sequence.pad_sequences([inputs],\n",
    "      8                                                            maxlen=max_length_inp,\n",
    "\n",
    "<ipython-input-30-3bbd2a3f63f0> in <listcomp>(.0)\n",
    "      4     sentence = preprocess_sentence(sentence)\n",
    "      5 \n",
    "----> 6     inputs = [inp_lang.word_index[i] for i in sentence.split(' ')]\n",
    "      7     inputs = tf.keras.preprocessing.sequence.pad_sequences([inputs],\n",
    "      8                                                            maxlen=max_length_inp,\n",
    "\n",
    "KeyError: 'rotates'"
   ]
  }
 ],
 "metadata": {
  "kernelspec": {
   "display_name": "conda_tensorflow_p36",
   "language": "python",
   "name": "conda_tensorflow_p36"
  },
  "language_info": {
   "codemirror_mode": {
    "name": "ipython",
    "version": 3
   },
   "file_extension": ".py",
   "mimetype": "text/x-python",
   "name": "python",
   "nbconvert_exporter": "python",
   "pygments_lexer": "ipython3",
   "version": "3.6.5"
  }
 },
 "nbformat": 4,
 "nbformat_minor": 4
}
