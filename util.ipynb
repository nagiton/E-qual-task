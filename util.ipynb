{
 "cells": [
  {
   "cell_type": "code",
   "execution_count": 2,
   "metadata": {},
   "outputs": [
    {
     "name": "stdout",
     "output_type": "stream",
     "text": [
      "             total       used       free     shared    buffers     cached\n",
      "Mem:          3945       2119       1825          0        135       1494\n",
      "-/+ buffers/cache:        489       3455\n",
      "Swap:            0          0          0\n"
     ]
    }
   ],
   "source": [
    "%%bash\n",
    "free -m"
   ]
  },
  {
   "cell_type": "code",
   "execution_count": 3,
   "metadata": {},
   "outputs": [
    {
     "name": "stdout",
     "output_type": "stream",
     "text": [
      "NVIDIA-SMI has failed because it couldn't communicate with the NVIDIA driver. Make sure that the latest NVIDIA driver is installed and running.\n",
      "\n"
     ]
    }
   ],
   "source": [
    "%%bash\n",
    "nvidia-smi"
   ]
  },
  {
   "cell_type": "code",
   "execution_count": 4,
   "metadata": {},
   "outputs": [
    {
     "name": "stdout",
     "output_type": "stream",
     "text": [
      "Filesystem     1M-blocks  Used Available Use% Mounted on\n",
      "devtmpfs            1963     1      1963   1% /dev\n",
      "tmpfs               1973     0      1973   0% /dev/shm\n",
      "/dev/xvda1        100664 71611     28955  72% /\n",
      "/dev/xvdf           4976    21      4684   1% /home/ec2-user/SageMaker\n"
     ]
    }
   ],
   "source": [
    "%%bash\n",
    "df -m"
   ]
  },
  {
   "cell_type": "code",
   "execution_count": 5,
   "metadata": {},
   "outputs": [
    {
     "name": "stdout",
     "output_type": "stream",
     "text": [
      "/home/ec2-user/SageMaker/E-qual-task\n"
     ]
    }
   ],
   "source": [
    "%%bash\n",
    "pwd"
   ]
  },
  {
   "cell_type": "code",
   "execution_count": null,
   "metadata": {},
   "outputs": [],
   "source": [
    "---------------------------------------------------------------------------\n",
    "KeyError                                  Traceback (most recent call last)\n",
    "<ipython-input-41-b5d1f39fa8ff> in <module>()\n",
    "----> 1 ja_pred = [evaluate(sentence)[0] for sentence in en_test] ##keyerrorの例外処理を入れる\n",
    "\n",
    "<ipython-input-41-b5d1f39fa8ff> in <listcomp>(.0)\n",
    "----> 1 ja_pred = [evaluate(sentence)[0] for sentence in en_test] ##keyerrorの例外処理を入れる\n",
    "\n",
    "<ipython-input-30-3bbd2a3f63f0> in evaluate(sentence)\n",
    "      4     sentence = preprocess_sentence(sentence)\n",
    "      5 \n",
    "----> 6     inputs = [inp_lang.word_index[i] for i in sentence.split(' ')]\n",
    "      7     inputs = tf.keras.preprocessing.sequence.pad_sequences([inputs],\n",
    "      8                                                            maxlen=max_length_inp,\n",
    "\n",
    "<ipython-input-30-3bbd2a3f63f0> in <listcomp>(.0)\n",
    "      4     sentence = preprocess_sentence(sentence)\n",
    "      5 \n",
    "----> 6     inputs = [inp_lang.word_index[i] for i in sentence.split(' ')]\n",
    "      7     inputs = tf.keras.preprocessing.sequence.pad_sequences([inputs],\n",
    "      8                                                            maxlen=max_length_inp,\n",
    "\n",
    "KeyError: 'rotates'"
   ]
  }
 ],
 "metadata": {
  "kernelspec": {
   "display_name": "conda_tensorflow_p36",
   "language": "python",
   "name": "conda_tensorflow_p36"
  },
  "language_info": {
   "codemirror_mode": {
    "name": "ipython",
    "version": 3
   },
   "file_extension": ".py",
   "mimetype": "text/x-python",
   "name": "python",
   "nbconvert_exporter": "python",
   "pygments_lexer": "ipython3",
   "version": "3.6.5"
  }
 },
 "nbformat": 4,
 "nbformat_minor": 4
}
