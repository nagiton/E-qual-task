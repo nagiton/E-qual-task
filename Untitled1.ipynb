{
 "cells": [
  {
   "cell_type": "code",
   "execution_count": 3,
   "metadata": {},
   "outputs": [],
   "source": [
    "import tensorflow as tf\n",
    "import numpy as np"
   ]
  },
  {
   "cell_type": "code",
   "execution_count": 6,
   "metadata": {},
   "outputs": [],
   "source": [
    "inputs = np.random.random([32, 10, 8]).astype(np.float32)\n",
    "lstm = tf.keras.layers.LSTM(4)\n",
    "\n",
    "output = lstm(inputs)  # The output has shape `[32, 4]`.\n",
    "\n",
    "lstm = tf.keras.layers.LSTM(4, return_sequences=False, return_state=True)\n",
    "\n",
    "# whole_sequence_output has shape `[32, 10, 4]`.\n",
    "# final_memory_state and final_carry_state both have shape `[32, 4]`.\n",
    "whole_sequence_output, final_memory_state, final_carry_state = lstm(inputs)"
   ]
  },
  {
   "cell_type": "code",
   "execution_count": 7,
   "metadata": {},
   "outputs": [
    {
     "data": {
      "text/plain": [
       "[<tf.Tensor 'lstm_3_1/strided_slice_7:0' shape=(32, 4) dtype=float32>,\n",
       " <tf.Tensor 'lstm_3_1/while/Exit_2:0' shape=(32, 4) dtype=float32>,\n",
       " <tf.Tensor 'lstm_3_1/while/Exit_3:0' shape=(32, 4) dtype=float32>]"
      ]
     },
     "execution_count": 7,
     "metadata": {},
     "output_type": "execute_result"
    }
   ],
   "source": [
    "lstm(inputs)"
   ]
  },
  {
   "cell_type": "code",
   "execution_count": null,
   "metadata": {},
   "outputs": [],
   "source": []
  }
 ],
 "metadata": {
  "kernelspec": {
   "display_name": "conda_tensorflow_p36",
   "language": "python",
   "name": "conda_tensorflow_p36"
  },
  "language_info": {
   "codemirror_mode": {
    "name": "ipython",
    "version": 3
   },
   "file_extension": ".py",
   "mimetype": "text/x-python",
   "name": "python",
   "nbconvert_exporter": "python",
   "pygments_lexer": "ipython3",
   "version": "3.6.5"
  }
 },
 "nbformat": 4,
 "nbformat_minor": 4
}
