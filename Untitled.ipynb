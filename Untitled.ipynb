{
 "cells": [
  {
   "cell_type": "code",
   "execution_count": 39,
   "metadata": {},
   "outputs": [
    {
     "data": {
      "text/plain": [
       "{'Epoch': [1,\n",
       "  2,\n",
       "  3,\n",
       "  4,\n",
       "  5,\n",
       "  6,\n",
       "  7,\n",
       "  8,\n",
       "  9,\n",
       "  10,\n",
       "  11,\n",
       "  12,\n",
       "  13,\n",
       "  14,\n",
       "  15,\n",
       "  16,\n",
       "  17,\n",
       "  18,\n",
       "  19,\n",
       "  20],\n",
       " 'Loss': [<tf.Tensor: shape=(), dtype=float32, numpy=2.7718642>,\n",
       "  <tf.Tensor: shape=(), dtype=float32, numpy=2.0665996>,\n",
       "  <tf.Tensor: shape=(), dtype=float32, numpy=1.8345597>,\n",
       "  <tf.Tensor: shape=(), dtype=float32, numpy=1.6246952>,\n",
       "  <tf.Tensor: shape=(), dtype=float32, numpy=1.4007393>,\n",
       "  <tf.Tensor: shape=(), dtype=float32, numpy=1.1859492>,\n",
       "  <tf.Tensor: shape=(), dtype=float32, numpy=1.0006173>,\n",
       "  <tf.Tensor: shape=(), dtype=float32, numpy=0.84279156>,\n",
       "  <tf.Tensor: shape=(), dtype=float32, numpy=0.7055717>,\n",
       "  <tf.Tensor: shape=(), dtype=float32, numpy=0.58865577>,\n",
       "  <tf.Tensor: shape=(), dtype=float32, numpy=0.48728582>,\n",
       "  <tf.Tensor: shape=(), dtype=float32, numpy=0.39740136>,\n",
       "  <tf.Tensor: shape=(), dtype=float32, numpy=0.32080236>,\n",
       "  <tf.Tensor: shape=(), dtype=float32, numpy=0.25717226>,\n",
       "  <tf.Tensor: shape=(), dtype=float32, numpy=0.20731567>,\n",
       "  <tf.Tensor: shape=(), dtype=float32, numpy=0.16527452>,\n",
       "  <tf.Tensor: shape=(), dtype=float32, numpy=0.13221404>,\n",
       "  <tf.Tensor: shape=(), dtype=float32, numpy=0.11028917>,\n",
       "  <tf.Tensor: shape=(), dtype=float32, numpy=0.09386136>,\n",
       "  <tf.Tensor: shape=(), dtype=float32, numpy=0.08363803>],\n",
       " 'BLEU': [0.0013951247548328193,\n",
       "  0.011595767593586274,\n",
       "  0.025275180013647862,\n",
       "  0.03782496103945992,\n",
       "  0.08031917510624977,\n",
       "  0.11938730410929103,\n",
       "  0.12801942863687021,\n",
       "  0.1611647214833333,\n",
       "  0.1704474393123065,\n",
       "  0.17728465598523227,\n",
       "  0.17862810533260437,\n",
       "  0.20008868169172786,\n",
       "  0.1805230204543746,\n",
       "  0.18117851984038127,\n",
       "  0.1812708801760302,\n",
       "  0.18960141491861957,\n",
       "  0.1782204014120947,\n",
       "  0.18893004859483895,\n",
       "  0.17534691889776718,\n",
       "  0.19057699478564039]}"
      ]
     },
     "execution_count": 39,
     "metadata": {},
     "output_type": "execute_result"
    }
   ],
   "source": [
    "stats"
   ]
  },
  {
   "cell_type": "code",
   "execution_count": null,
   "metadata": {},
   "outputs": [],
   "source": []
  }
 ],
 "metadata": {
  "kernelspec": {
   "display_name": "conda_tensorflow_p36",
   "language": "python",
   "name": "conda_tensorflow_p36"
  },
  "language_info": {
   "codemirror_mode": {
    "name": "ipython",
    "version": 3
   },
   "file_extension": ".py",
   "mimetype": "text/x-python",
   "name": "python",
   "nbconvert_exporter": "python",
   "pygments_lexer": "ipython3",
   "version": "3.6.5"
  }
 },
 "nbformat": 4,
 "nbformat_minor": 4
}
